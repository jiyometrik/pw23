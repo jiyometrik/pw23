{
 "cells": [
  {
   "attachments": {},
   "cell_type": "markdown",
   "metadata": {},
   "source": [
    "# RQ3\n",
    "> can we predict the relationship between the sentiment of a review and the number of stars given?\n",
    "- independent: sentiment of review\n",
    "- dependent: # of stars given for review\n",
    "\n",
    "## todo\n",
    "1. build a linear regression model\n",
    "2. build a logistic regression model\n",
    "3. build a polynomial regression model (if possible)\n",
    "4. graph all the results"
   ]
  },
  {
   "cell_type": "code",
   "execution_count": 1,
   "metadata": {},
   "outputs": [
    {
     "data": {
      "text/plain": [
       "<Figure size 180x360 with 0 Axes>"
      ]
     },
     "metadata": {},
     "output_type": "display_data"
    }
   ],
   "source": [
    "import matplotlib.pyplot as plt\n",
    "import pandas as pd\n",
    "import numpy as np\n",
    "\n",
    "from sklearn.model_selection import train_test_split\n",
    "from sklearn.linear_model import LinearRegression as LinReg\n",
    "from sklearn.metrics import confusion_matrix\n",
    "\n",
    "from gensim.test.utils import common_texts\n",
    "from gensim.models.doc2vec import Doc2Vec, TaggedDocument\n",
    "\n",
    "import nltk\n",
    "nltk.data.path.append('/usr/share/nltk_data/')\n",
    "from nltk import pos_tag\n",
    "from nltk.corpus import stopwords, wordnet\n",
    "from nltk.tokenize import WhitespaceTokenizer\n",
    "from nltk.stem import WordNetLemmatizer\n",
    "import string\n",
    "\n",
    "# matplotlib things\n",
    "plt.figure(figsize=(3, 6), dpi=60)\n",
    "plt.style.use('seaborn-v0_8')\n",
    "# plt.rcParams['font.family'] = ['Times New Roman', 'serif']"
   ]
  },
  {
   "cell_type": "code",
   "execution_count": 2,
   "metadata": {},
   "outputs": [],
   "source": [
    "# import the data\n",
    "df = pd.read_csv('./data/combined_sentiments.csv', header=0, sep=',', on_bad_lines='skip')\n",
    "\n",
    "# lemmatise\n",
    "def get_wordnet_pos(pos_tag):\n",
    "    if pos_tag.startswith('J'):\n",
    "        return wordnet.ADJ\n",
    "    elif pos_tag.startswith('V'):\n",
    "        return wordnet.VERB\n",
    "    elif pos_tag.startswith('N'):\n",
    "        return wordnet.NOUN\n",
    "    elif pos_tag.startswith('R'):\n",
    "        return wordnet.ADV\n",
    "    else:\n",
    "        return wordnet.NOUN\n",
    "\n",
    "# check whether there is a digit or not\n",
    "def check_digits(text):\n",
    "     return any(i.isdigit() for i in text)\n",
    "\n",
    "# tokenise\n",
    "def clean_review(review):\n",
    "\treview = str(review)\n",
    "\treview = review.lower() # turn into lowercase\n",
    "\treview = [word.strip(string.punctuation) for word in review.split(' ')] # remove punctuation\n",
    "\treview = [word for word in review if not check_digits(word)] # remove digits\n",
    "\n",
    "\t# remove stop words\n",
    "\tstop = stopwords.words('english')\n",
    "\treview = [token for token in review if token not in stop]\n",
    "\t# remove empty tokens\n",
    "\treview = [token for token in review if len(token) > 0]\n",
    "\t\n",
    "\t# tag each token with its part of speech (pos)\n",
    "\tpos_tags = pos_tag(review)\n",
    "\treview = [WordNetLemmatizer().lemmatize(tag[0], get_wordnet_pos(tag[1])) for tag in pos_tags]\n",
    "\n",
    "\t# remove words with only one letter\n",
    "\treview = [token for token in review if len(token) > 1]\n",
    "\treview = ' '.join(review)\n",
    "\treturn review\n",
    "\n",
    "# generate a cleaned, tokenised and lemmatised version of the reviews\n",
    "df['reviews.clean'] = df['reviews.text'].apply(lambda x: clean_review(x))"
   ]
  }
 ],
 "metadata": {
  "kernelspec": {
   "display_name": "Python 3",
   "language": "python",
   "name": "python3"
  },
  "language_info": {
   "codemirror_mode": {
    "name": "ipython",
    "version": 3
   },
   "file_extension": ".py",
   "mimetype": "text/x-python",
   "name": "python",
   "nbconvert_exporter": "python",
   "pygments_lexer": "ipython3",
   "version": "3.9.16"
  },
  "orig_nbformat": 4
 },
 "nbformat": 4,
 "nbformat_minor": 2
}
